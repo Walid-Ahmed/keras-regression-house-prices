{
 "cells": [
  {
   "cell_type": "code",
   "execution_count": 1,
   "metadata": {},
   "outputs": [
    {
     "name": "stderr",
     "output_type": "stream",
     "text": [
      "Using TensorFlow backend.\n"
     ]
    }
   ],
   "source": [
    "# import the necessary packages\n",
    "import tensorflow as tf\n",
    "from keras.optimizers import Adam\n",
    "from sklearn.model_selection import train_test_split\n",
    "import numpy as np\n",
    "import argparse\n",
    "import locale\n",
    "import os\n",
    "import pandas as pd\n",
    "from sklearn.preprocessing import LabelBinarizer\n",
    "from sklearn import preprocessing\n",
    "import sys\n",
    "\n",
    "from keras.models import Sequential\n",
    "from keras.layers.normalization import BatchNormalization\n",
    "from keras.layers.convolutional import Conv2D\n",
    "from keras.layers.convolutional import MaxPooling2D\n",
    "from keras.layers.core import Activation\n",
    "from keras.layers.core import Dropout\n",
    "from keras.layers.core import Dense\n",
    "from keras.layers import Flatten\n",
    "from keras.layers import Input\n",
    "from keras.models import Model\n",
    "import matplotlib.pyplot as plt\n",
    "from keras.utils import plot_model\n",
    "import numpy\n",
    "numpy.set_printoptions(threshold=sys.maxsize)"
   ]
  },
  {
   "cell_type": "code",
   "execution_count": 2,
   "metadata": {},
   "outputs": [
    {
     "name": "stdout",
     "output_type": "stream",
     "text": [
      "[INFO] loading house attributes...\n"
     ]
    },
    {
     "data": {
      "text/html": [
       "<div>\n",
       "<style scoped>\n",
       "    .dataframe tbody tr th:only-of-type {\n",
       "        vertical-align: middle;\n",
       "    }\n",
       "\n",
       "    .dataframe tbody tr th {\n",
       "        vertical-align: top;\n",
       "    }\n",
       "\n",
       "    .dataframe thead th {\n",
       "        text-align: right;\n",
       "    }\n",
       "</style>\n",
       "<table border=\"1\" class=\"dataframe\">\n",
       "  <thead>\n",
       "    <tr style=\"text-align: right;\">\n",
       "      <th></th>\n",
       "      <th>bedrooms</th>\n",
       "      <th>bathrooms</th>\n",
       "      <th>area</th>\n",
       "      <th>zipcode</th>\n",
       "      <th>price</th>\n",
       "    </tr>\n",
       "  </thead>\n",
       "  <tbody>\n",
       "    <tr>\n",
       "      <th>0</th>\n",
       "      <td>4</td>\n",
       "      <td>4.0</td>\n",
       "      <td>4053</td>\n",
       "      <td>85255</td>\n",
       "      <td>869500</td>\n",
       "    </tr>\n",
       "    <tr>\n",
       "      <th>1</th>\n",
       "      <td>4</td>\n",
       "      <td>3.0</td>\n",
       "      <td>3343</td>\n",
       "      <td>36372</td>\n",
       "      <td>865200</td>\n",
       "    </tr>\n",
       "    <tr>\n",
       "      <th>2</th>\n",
       "      <td>3</td>\n",
       "      <td>4.0</td>\n",
       "      <td>3923</td>\n",
       "      <td>85266</td>\n",
       "      <td>889000</td>\n",
       "    </tr>\n",
       "    <tr>\n",
       "      <th>3</th>\n",
       "      <td>5</td>\n",
       "      <td>5.0</td>\n",
       "      <td>4022</td>\n",
       "      <td>85262</td>\n",
       "      <td>910000</td>\n",
       "    </tr>\n",
       "    <tr>\n",
       "      <th>4</th>\n",
       "      <td>3</td>\n",
       "      <td>4.0</td>\n",
       "      <td>4116</td>\n",
       "      <td>85266</td>\n",
       "      <td>971226</td>\n",
       "    </tr>\n",
       "  </tbody>\n",
       "</table>\n",
       "</div>"
      ],
      "text/plain": [
       "   bedrooms  bathrooms  area  zipcode   price\n",
       "0         4        4.0  4053    85255  869500\n",
       "1         4        3.0  3343    36372  865200\n",
       "2         3        4.0  3923    85266  889000\n",
       "3         5        5.0  4022    85262  910000\n",
       "4         3        4.0  4116    85266  971226"
      ]
     },
     "execution_count": 2,
     "metadata": {},
     "output_type": "execute_result"
    }
   ],
   "source": [
    "print(\"[INFO] loading house attributes...\")\n",
    "inputPath =  \"HousesInfo.txt\"\n",
    "cols = [\"bedrooms\", \"bathrooms\", \"area\", \"zipcode\", \"price\"]\n",
    "df = pd.read_csv(inputPath, sep=\" \", header=None, names=cols)\n",
    "df.head()\n"
   ]
  },
  {
   "cell_type": "code",
   "execution_count": 3,
   "metadata": {},
   "outputs": [
    {
     "name": "stdout",
     "output_type": "stream",
     "text": [
      "[INFO]removed zipcodes which less than 25 houses\n"
     ]
    }
   ],
   "source": [
    "#Pandas Index.value_counts() function returns object containing counts of unique values. The resulting object will be in descending order so that the first element is the most frequently-occurring element. Excludes NA values by default.\n",
    "zipcodeSeries=df[\"zipcode\"].value_counts()  #<class 'pandas.core.series.Series'>\n",
    "zipcodes = zipcodeSeries.keys().tolist()   #zipcodes as list\n",
    "counts = zipcodeSeries.tolist()    #count of zipcodes as list  \n",
    "for (zipcode, count) in zip(zipcodes, counts):\n",
    "\t\t# the zip code counts for our housing dataset is *extremely*\n",
    "\t\t# unbalanced (some only having 1 or 2 houses per zip code)\n",
    "\t\t# so let's sanitize our data by removing any houses with less\n",
    "\t\t# than 25 houses per zip code\n",
    "\t\tif count < 25:\n",
    "\t\t\tbooleanVal=(df[\"zipcode\"] == zipcode)  # this will be true at all zipcodes that should be deleted\n",
    "\t\t\t#print(type(booleanVal))   #<class 'pandas.core.series.Series'>\n",
    "\t\t\tidxs = df[booleanVal].index  #this will return indices of these true values\n",
    "\t\t\tdf.drop(idxs, inplace=True)\n",
    "print(\"[INFO]removed zipcodes which less than 25 houses\")            "
   ]
  },
  {
   "cell_type": "code",
   "execution_count": 4,
   "metadata": {},
   "outputs": [
    {
     "name": "stdout",
     "output_type": "stream",
     "text": [
      "[INFO] continous values normalize to be between 0 and 1\n"
     ]
    }
   ],
   "source": [
    "#Normalize  continous values to be between 0 and 1\n",
    "column_names_to_normalize = [\"bedrooms\", \"bathrooms\", \"area\"]  #continous data\n",
    "x = df[column_names_to_normalize].values\n",
    "min_max_scaler = preprocessing.MinMaxScaler()\n",
    "x_scaled = min_max_scaler.fit_transform(x)\n",
    "df_temp = pd.DataFrame(x_scaled, columns=column_names_to_normalize, index = df.index)\n",
    "df[column_names_to_normalize] = df_temp\n",
    "print(\"[INFO] continous values normalize to be between 0 and 1\")"
   ]
  },
  {
   "cell_type": "code",
   "execution_count": 5,
   "metadata": {},
   "outputs": [
    {
     "name": "stdout",
     "output_type": "stream",
     "text": [
      "    zipcode_91901  zipcode_92276  zipcode_92677  zipcode_92880  zipcode_93446  \\\n",
      "30              0              0              0              0              1   \n",
      "32              0              0              0              0              1   \n",
      "39              0              0              0              0              1   \n",
      "80              1              0              0              0              0   \n",
      "81              1              0              0              0              0   \n",
      "\n",
      "    zipcode_93510  zipcode_94501  \n",
      "30              0              0  \n",
      "32              0              0  \n",
      "39              0              0  \n",
      "80              0              0  \n",
      "81              0              0  \n",
      "[INFO] Zip code converted to one hot vector\n"
     ]
    }
   ],
   "source": [
    "#change categoital data to one hot vector\n",
    "df['zipcode']=pd.Categorical(df['zipcode'])\n",
    "dfDummies = pd.get_dummies(df['zipcode'], prefix = 'zipcode')\n",
    "print(dfDummies.head())\n",
    "df = pd.concat([df, dfDummies], axis=1)\n",
    "df.drop(['zipcode'],axis=1,inplace=True)\n",
    "print(\"[INFO] Zip code converted to one hot vector\")"
   ]
  },
  {
   "cell_type": "code",
   "execution_count": 6,
   "metadata": {},
   "outputs": [
    {
     "name": "stdout",
     "output_type": "stream",
     "text": [
      "[INFO] constructing training/testing split...\n",
      "[INFO] train and test data prepared\n"
     ]
    }
   ],
   "source": [
    "# construct a training and testing split with 75% of the data used\n",
    "# for training and the remaining 25% for evaluation\n",
    "print(\"[INFO] constructing training/testing split...\")\n",
    "(train, test) = train_test_split(df, test_size=0.25, random_state=42)\n",
    "trainX=(train.drop('price', axis=1)).values\n",
    "trainY=train[\"price\"].values\n",
    "testX=(test.drop('price', axis=1)).values\n",
    "testY=test[\"price\"].values\n",
    "print(\"[INFO] train and test data prepared\")"
   ]
  },
  {
   "cell_type": "code",
   "execution_count": 7,
   "metadata": {},
   "outputs": [
    {
     "name": "stdout",
     "output_type": "stream",
     "text": [
      "[INFO] Normalized price by printing by max price\n"
     ]
    }
   ],
   "source": [
    "maxPrice = train[\"price\"].max()\n",
    "trainY=trainY/maxPrice\n",
    "testY=testY/maxPrice\n",
    "print(\"[INFO] Normalized price by printing by max price\")"
   ]
  },
  {
   "cell_type": "code",
   "execution_count": 8,
   "metadata": {},
   "outputs": [
    {
     "name": "stdout",
     "output_type": "stream",
     "text": [
      "[INFO] trainX.shape  (271, 10)\n",
      "[INFO]testX.shape (91, 10)\n",
      "[INFO] trainY.shape (271,)\n",
      "[INFO] testY.shape (91,)\n"
     ]
    }
   ],
   "source": [
    "print(\"[INFO] trainX.shape  {}\".format(trainX.shape))\n",
    "print(\"[INFO]testX.shape {}\".format(testX.shape))\n",
    "print(\"[INFO] trainY.shape {}\".format(trainY.shape))\n",
    "print(\"[INFO] testY.shape {}\".format(testY.shape))"
   ]
  },
  {
   "cell_type": "code",
   "execution_count": 10,
   "metadata": {},
   "outputs": [
    {
     "name": "stdout",
     "output_type": "stream",
     "text": [
      "Model: \"sequential_1\"\n",
      "_________________________________________________________________\n",
      "Layer (type)                 Output Shape              Param #   \n",
      "=================================================================\n",
      "dense_1 (Dense)              (None, 8)                 88        \n",
      "_________________________________________________________________\n",
      "dense_2 (Dense)              (None, 4)                 36        \n",
      "_________________________________________________________________\n",
      "dense_3 (Dense)              (None, 1)                 5         \n",
      "=================================================================\n",
      "Total params: 129\n",
      "Trainable params: 129\n",
      "Non-trainable params: 0\n",
      "_________________________________________________________________\n"
     ]
    },
    {
     "data": {
      "image/png": "[encoded data removed]",
      "text/plain": [
       "<Figure size 432x288 with 1 Axes>"
      ]
     },
     "metadata": {
      "needs_background": "light"
     },
     "output_type": "display_data"
    }
   ],
   "source": [
    "model = Sequential()\n",
    "model.add(Dense(8, input_dim=trainX.shape[1], activation=\"relu\"))\n",
    "model.add(Dense(4, activation=\"relu\"))\n",
    "model.add(Dense(1, activation=\"linear\"))\n",
    "model.summary()\n",
    "plot_model(model, to_file='model.png')\n",
    "import matplotlib.image as mpimg\n",
    "img=mpimg.imread('model.png')\n",
    "imgplot = plt.imshow(img)\n",
    "plt.show()"
   ]
  },
  {
   "cell_type": "code",
   "execution_count": 11,
   "metadata": {},
   "outputs": [],
   "source": [
    "opt = Adam(lr=1e-3, decay=1e-3 / 200)\n",
    "model.compile(loss=\"mean_absolute_percentage_error\", optimizer=opt)\n"
   ]
  },
  {
   "cell_type": "code",
   "execution_count": 12,
   "metadata": {},
   "outputs": [
    {
     "name": "stdout",
     "output_type": "stream",
     "text": [
      "[INFO] training model...\n",
      "WARNING:tensorflow:From /Users/walidahmed/anaconda2/lib/python3.6/site-packages/tensorflow/python/ops/math_ops.py:3066: to_int32 (from tensorflow.python.ops.math_ops) is deprecated and will be removed in a future version.\n",
      "Instructions for updating:\n",
      "Use tf.cast instead.\n",
      "Train on 271 samples, validate on 91 samples\n",
      "Epoch 1/200\n",
      "271/271 [==============================] - 1s 4ms/step - loss: 507.3404 - val_loss: 216.8817\n",
      "Epoch 2/200\n",
      "271/271 [==============================] - 0s 710us/step - loss: 116.0361 - val_loss: 84.3331\n",
      "Epoch 3/200\n",
      "271/271 [==============================] - 0s 627us/step - loss: 65.4680 - val_loss: 70.6753\n",
      "Epoch 4/200\n",
      "271/271 [==============================] - 0s 376us/step - loss: 57.5419 - val_loss: 64.7573\n",
      "Epoch 5/200\n",
      "271/271 [==============================] - 0s 386us/step - loss: 52.1707 - val_loss: 60.7663\n",
      "Epoch 6/200\n",
      "271/271 [==============================] - 0s 384us/step - loss: 48.4241 - val_loss: 55.2817\n",
      "Epoch 7/200\n",
      "271/271 [==============================] - 0s 367us/step - loss: 46.2975 - val_loss: 54.9520\n",
      "Epoch 8/200\n",
      "271/271 [==============================] - 0s 446us/step - loss: 44.6819 - val_loss: 49.6408\n",
      "Epoch 9/200\n",
      "271/271 [==============================] - 0s 509us/step - loss: 43.0058 - val_loss: 49.2054\n",
      "Epoch 10/200\n",
      "271/271 [==============================] - 0s 426us/step - loss: 40.6376 - val_loss: 48.8907\n",
      "Epoch 11/200\n",
      "271/271 [==============================] - 0s 588us/step - loss: 41.5520 - val_loss: 45.0168\n",
      "Epoch 12/200\n",
      "271/271 [==============================] - 0s 456us/step - loss: 38.8346 - val_loss: 44.9802\n",
      "Epoch 13/200\n",
      "271/271 [==============================] - 0s 846us/step - loss: 38.0413 - val_loss: 44.0437\n",
      "Epoch 14/200\n",
      "271/271 [==============================] - 0s 604us/step - loss: 37.6170 - val_loss: 41.8178\n",
      "Epoch 15/200\n",
      "271/271 [==============================] - 0s 396us/step - loss: 36.7195 - val_loss: 40.6375\n",
      "Epoch 16/200\n",
      "271/271 [==============================] - 0s 406us/step - loss: 36.1483 - val_loss: 40.2544\n",
      "Epoch 17/200\n",
      "271/271 [==============================] - 0s 388us/step - loss: 35.4121 - val_loss: 38.9907\n",
      "Epoch 18/200\n",
      "271/271 [==============================] - 0s 376us/step - loss: 38.0373 - val_loss: 39.4653\n",
      "Epoch 19/200\n",
      "271/271 [==============================] - 0s 379us/step - loss: 36.3337 - val_loss: 41.1334\n",
      "Epoch 20/200\n",
      "271/271 [==============================] - 0s 627us/step - loss: 35.0128 - val_loss: 37.6525\n",
      "Epoch 21/200\n",
      "271/271 [==============================] - 0s 670us/step - loss: 35.2846 - val_loss: 36.2982\n",
      "Epoch 22/200\n",
      "271/271 [==============================] - 0s 427us/step - loss: 32.7347 - val_loss: 37.6045\n",
      "Epoch 23/200\n",
      "271/271 [==============================] - 0s 371us/step - loss: 33.5356 - val_loss: 34.9889\n",
      "Epoch 24/200\n",
      "271/271 [==============================] - 0s 366us/step - loss: 34.0969 - val_loss: 37.3367\n",
      "Epoch 25/200\n",
      "271/271 [==============================] - 0s 374us/step - loss: 33.1032 - val_loss: 33.0691\n",
      "Epoch 26/200\n",
      "271/271 [==============================] - 0s 414us/step - loss: 32.2579 - val_loss: 35.5604\n",
      "Epoch 27/200\n",
      "271/271 [==============================] - 0s 501us/step - loss: 31.5482 - val_loss: 34.0546\n",
      "Epoch 28/200\n",
      "271/271 [==============================] - 0s 666us/step - loss: 30.6908 - val_loss: 31.5411\n",
      "Epoch 29/200\n",
      "271/271 [==============================] - 0s 585us/step - loss: 30.7430 - val_loss: 33.2435\n",
      "Epoch 30/200\n",
      "271/271 [==============================] - 0s 526us/step - loss: 30.1886 - val_loss: 31.4746\n",
      "Epoch 31/200\n",
      "271/271 [==============================] - 0s 517us/step - loss: 29.2152 - val_loss: 30.9115\n",
      "Epoch 32/200\n",
      "271/271 [==============================] - 0s 484us/step - loss: 29.9013 - val_loss: 33.4078\n",
      "Epoch 33/200\n",
      "271/271 [==============================] - 0s 399us/step - loss: 28.6268 - val_loss: 32.1154\n",
      "Epoch 34/200\n",
      "271/271 [==============================] - 0s 386us/step - loss: 28.6256 - val_loss: 31.2976\n",
      "Epoch 35/200\n",
      "271/271 [==============================] - 0s 383us/step - loss: 28.4915 - val_loss: 31.1858\n",
      "Epoch 36/200\n",
      "271/271 [==============================] - 0s 395us/step - loss: 28.1342 - val_loss: 31.0193\n",
      "Epoch 37/200\n",
      "271/271 [==============================] - 0s 374us/step - loss: 28.0244 - val_loss: 30.5688\n",
      "Epoch 38/200\n",
      "271/271 [==============================] - 0s 525us/step - loss: 28.1914 - val_loss: 30.0224\n",
      "Epoch 39/200\n",
      "271/271 [==============================] - 0s 501us/step - loss: 31.2049 - val_loss: 28.7485\n",
      "Epoch 40/200\n",
      "271/271 [==============================] - 0s 377us/step - loss: 28.2081 - val_loss: 29.8713\n",
      "Epoch 41/200\n",
      "271/271 [==============================] - 0s 426us/step - loss: 27.6286 - val_loss: 31.6483\n",
      "Epoch 42/200\n",
      "271/271 [==============================] - 0s 746us/step - loss: 29.4929 - val_loss: 31.0906\n",
      "Epoch 43/200\n",
      "271/271 [==============================] - 0s 405us/step - loss: 26.5925 - val_loss: 28.9041\n",
      "Epoch 44/200\n",
      "271/271 [==============================] - 0s 365us/step - loss: 26.9481 - val_loss: 29.5935\n",
      "Epoch 45/200\n",
      "271/271 [==============================] - 0s 370us/step - loss: 28.9014 - val_loss: 28.9011\n",
      "Epoch 46/200\n",
      "271/271 [==============================] - 0s 442us/step - loss: 27.4856 - val_loss: 27.5447\n",
      "Epoch 47/200\n",
      "271/271 [==============================] - 0s 485us/step - loss: 26.6132 - val_loss: 28.4541\n",
      "Epoch 48/200\n",
      "271/271 [==============================] - 0s 718us/step - loss: 26.4321 - val_loss: 28.1294\n",
      "Epoch 49/200\n",
      "271/271 [==============================] - 0s 473us/step - loss: 26.4773 - val_loss: 28.4539\n",
      "Epoch 50/200\n",
      "271/271 [==============================] - 0s 512us/step - loss: 29.1862 - val_loss: 31.4609\n",
      "Epoch 51/200\n",
      "271/271 [==============================] - 0s 383us/step - loss: 27.4716 - val_loss: 28.5128\n",
      "Epoch 52/200\n",
      "271/271 [==============================] - 0s 364us/step - loss: 26.0694 - val_loss: 29.5103\n",
      "Epoch 53/200\n",
      "271/271 [==============================] - 0s 429us/step - loss: 25.2996 - val_loss: 28.8499\n",
      "Epoch 54/200\n",
      "271/271 [==============================] - 0s 365us/step - loss: 25.6979 - val_loss: 29.6287\n",
      "Epoch 55/200\n",
      "271/271 [==============================] - 0s 422us/step - loss: 27.1063 - val_loss: 27.2532\n",
      "Epoch 56/200\n",
      "271/271 [==============================] - 0s 400us/step - loss: 25.7446 - val_loss: 28.0483\n",
      "Epoch 57/200\n",
      "271/271 [==============================] - 0s 424us/step - loss: 25.1113 - val_loss: 26.5422\n",
      "Epoch 58/200\n",
      "271/271 [==============================] - 0s 395us/step - loss: 27.1371 - val_loss: 30.2000\n",
      "Epoch 59/200\n",
      "271/271 [==============================] - 0s 347us/step - loss: 25.4723 - val_loss: 26.9915\n",
      "Epoch 60/200\n",
      "271/271 [==============================] - 0s 373us/step - loss: 25.7945 - val_loss: 27.7391\n",
      "Epoch 61/200\n",
      "271/271 [==============================] - 0s 388us/step - loss: 25.3600 - val_loss: 26.4106\n",
      "Epoch 62/200\n",
      "271/271 [==============================] - 0s 385us/step - loss: 24.9672 - val_loss: 28.8049\n",
      "Epoch 63/200\n",
      "271/271 [==============================] - 0s 380us/step - loss: 25.9894 - val_loss: 28.8141\n",
      "Epoch 64/200\n",
      "271/271 [==============================] - 0s 375us/step - loss: 24.1643 - val_loss: 26.4200\n",
      "Epoch 65/200\n",
      "271/271 [==============================] - 0s 527us/step - loss: 25.4665 - val_loss: 27.6731\n",
      "Epoch 66/200\n",
      "271/271 [==============================] - 0s 350us/step - loss: 24.3521 - val_loss: 26.3604\n",
      "Epoch 67/200\n",
      "271/271 [==============================] - 0s 397us/step - loss: 23.9663 - val_loss: 27.9989\n",
      "Epoch 68/200\n",
      "271/271 [==============================] - 0s 404us/step - loss: 24.2321 - val_loss: 26.8847\n",
      "Epoch 69/200\n",
      "271/271 [==============================] - 0s 427us/step - loss: 24.4536 - val_loss: 26.2942\n",
      "Epoch 70/200\n",
      "271/271 [==============================] - 0s 423us/step - loss: 23.8738 - val_loss: 27.2200\n",
      "Epoch 71/200\n",
      "271/271 [==============================] - 0s 422us/step - loss: 24.0577 - val_loss: 26.5689\n",
      "Epoch 72/200\n",
      "271/271 [==============================] - 0s 415us/step - loss: 23.9158 - val_loss: 25.8249\n",
      "Epoch 73/200\n",
      "271/271 [==============================] - 0s 390us/step - loss: 24.6114 - val_loss: 27.0705\n",
      "Epoch 74/200\n",
      "271/271 [==============================] - 0s 492us/step - loss: 23.4294 - val_loss: 25.7881\n",
      "Epoch 75/200\n"
     ]
    },
    {
     "name": "stdout",
     "output_type": "stream",
     "text": [
      "271/271 [==============================] - 0s 414us/step - loss: 24.6932 - val_loss: 26.2284\n",
      "Epoch 76/200\n",
      "271/271 [==============================] - 0s 385us/step - loss: 23.7702 - val_loss: 25.8843\n",
      "Epoch 77/200\n",
      "271/271 [==============================] - 0s 398us/step - loss: 24.0308 - val_loss: 28.0265\n",
      "Epoch 78/200\n",
      "271/271 [==============================] - 0s 715us/step - loss: 24.4052 - val_loss: 26.0390\n",
      "Epoch 79/200\n",
      "271/271 [==============================] - 0s 341us/step - loss: 23.8590 - val_loss: 28.0165\n",
      "Epoch 80/200\n",
      "271/271 [==============================] - 0s 383us/step - loss: 24.5831 - val_loss: 25.7407\n",
      "Epoch 81/200\n",
      "271/271 [==============================] - 0s 393us/step - loss: 22.9443 - val_loss: 25.6972\n",
      "Epoch 82/200\n",
      "271/271 [==============================] - 0s 392us/step - loss: 23.7548 - val_loss: 26.4922\n",
      "Epoch 83/200\n",
      "271/271 [==============================] - 0s 350us/step - loss: 24.1688 - val_loss: 24.9075\n",
      "Epoch 84/200\n",
      "271/271 [==============================] - 0s 337us/step - loss: 23.4971 - val_loss: 25.0992\n",
      "Epoch 85/200\n",
      "271/271 [==============================] - 0s 356us/step - loss: 24.1530 - val_loss: 23.2980\n",
      "Epoch 86/200\n",
      "271/271 [==============================] - 0s 358us/step - loss: 24.1239 - val_loss: 26.8509\n",
      "Epoch 87/200\n",
      "271/271 [==============================] - 0s 342us/step - loss: 24.6179 - val_loss: 26.7093\n",
      "Epoch 88/200\n",
      "271/271 [==============================] - 0s 414us/step - loss: 23.4591 - val_loss: 26.0868\n",
      "Epoch 89/200\n",
      "271/271 [==============================] - 0s 341us/step - loss: 23.6896 - val_loss: 26.2877\n",
      "Epoch 90/200\n",
      "271/271 [==============================] - 0s 352us/step - loss: 23.9417 - val_loss: 25.5430\n",
      "Epoch 91/200\n",
      "271/271 [==============================] - 0s 353us/step - loss: 22.8351 - val_loss: 25.9072\n",
      "Epoch 92/200\n",
      "271/271 [==============================] - 0s 356us/step - loss: 24.3824 - val_loss: 28.6925\n",
      "Epoch 93/200\n",
      "271/271 [==============================] - 0s 375us/step - loss: 24.0395 - val_loss: 26.3831\n",
      "Epoch 94/200\n",
      "271/271 [==============================] - 0s 472us/step - loss: 22.8141 - val_loss: 28.3423\n",
      "Epoch 95/200\n",
      "271/271 [==============================] - 0s 376us/step - loss: 24.0345 - val_loss: 25.8174\n",
      "Epoch 96/200\n",
      "271/271 [==============================] - 0s 354us/step - loss: 22.6884 - val_loss: 24.1698\n",
      "Epoch 97/200\n",
      "271/271 [==============================] - 0s 361us/step - loss: 22.3319 - val_loss: 26.5429\n",
      "Epoch 98/200\n",
      "271/271 [==============================] - 0s 357us/step - loss: 22.8596 - val_loss: 24.7350\n",
      "Epoch 99/200\n",
      "271/271 [==============================] - 0s 341us/step - loss: 23.2318 - val_loss: 26.0995\n",
      "Epoch 100/200\n",
      "271/271 [==============================] - 0s 344us/step - loss: 22.9891 - val_loss: 25.1546\n",
      "Epoch 101/200\n",
      "271/271 [==============================] - 0s 355us/step - loss: 22.8841 - val_loss: 25.2835\n",
      "Epoch 102/200\n",
      "271/271 [==============================] - 0s 357us/step - loss: 22.7631 - val_loss: 23.3347\n",
      "Epoch 103/200\n",
      "271/271 [==============================] - 0s 367us/step - loss: 21.9554 - val_loss: 26.0349\n",
      "Epoch 104/200\n",
      "271/271 [==============================] - 0s 340us/step - loss: 21.9626 - val_loss: 25.6625\n",
      "Epoch 105/200\n",
      "271/271 [==============================] - 0s 340us/step - loss: 22.2601 - val_loss: 24.8801\n",
      "Epoch 106/200\n",
      "271/271 [==============================] - 0s 360us/step - loss: 23.7689 - val_loss: 28.0861\n",
      "Epoch 107/200\n",
      "271/271 [==============================] - 0s 356us/step - loss: 24.1021 - val_loss: 25.8979\n",
      "Epoch 108/200\n",
      "271/271 [==============================] - 0s 370us/step - loss: 21.8304 - val_loss: 24.8846\n",
      "Epoch 109/200\n",
      "271/271 [==============================] - 0s 351us/step - loss: 22.5025 - val_loss: 24.3664\n",
      "Epoch 110/200\n",
      "271/271 [==============================] - 0s 366us/step - loss: 21.7171 - val_loss: 25.7952\n",
      "Epoch 111/200\n",
      "271/271 [==============================] - 0s 370us/step - loss: 21.8562 - val_loss: 22.5353\n",
      "Epoch 112/200\n",
      "271/271 [==============================] - 0s 373us/step - loss: 22.5544 - val_loss: 23.7529\n",
      "Epoch 113/200\n",
      "271/271 [==============================] - 0s 367us/step - loss: 22.5113 - val_loss: 25.3804\n",
      "Epoch 114/200\n",
      "271/271 [==============================] - 0s 380us/step - loss: 22.1035 - val_loss: 25.4227\n",
      "Epoch 115/200\n",
      "271/271 [==============================] - 0s 370us/step - loss: 21.9474 - val_loss: 28.8649\n",
      "Epoch 116/200\n",
      "271/271 [==============================] - 0s 346us/step - loss: 22.7350 - val_loss: 25.0421\n",
      "Epoch 117/200\n",
      "271/271 [==============================] - 0s 342us/step - loss: 23.1252 - val_loss: 23.2374\n",
      "Epoch 118/200\n",
      "271/271 [==============================] - 0s 345us/step - loss: 21.2535 - val_loss: 26.0239\n",
      "Epoch 119/200\n",
      "271/271 [==============================] - 0s 345us/step - loss: 22.2680 - val_loss: 25.6414\n",
      "Epoch 120/200\n",
      "271/271 [==============================] - 0s 364us/step - loss: 21.5323 - val_loss: 30.0386\n",
      "Epoch 121/200\n",
      "271/271 [==============================] - 0s 365us/step - loss: 26.1103 - val_loss: 25.6273\n",
      "Epoch 122/200\n",
      "271/271 [==============================] - 0s 350us/step - loss: 23.7409 - val_loss: 27.2875\n",
      "Epoch 123/200\n",
      "271/271 [==============================] - 0s 343us/step - loss: 23.6668 - val_loss: 29.5684\n",
      "Epoch 124/200\n",
      "271/271 [==============================] - 0s 370us/step - loss: 22.6299 - val_loss: 23.2669\n",
      "Epoch 125/200\n",
      "271/271 [==============================] - 0s 343us/step - loss: 21.6504 - val_loss: 23.8426\n",
      "Epoch 126/200\n",
      "271/271 [==============================] - 0s 361us/step - loss: 23.8420 - val_loss: 28.3845\n",
      "Epoch 127/200\n",
      "271/271 [==============================] - 0s 347us/step - loss: 25.7995 - val_loss: 25.5111\n",
      "Epoch 128/200\n",
      "271/271 [==============================] - 0s 346us/step - loss: 22.2956 - val_loss: 26.3924\n",
      "Epoch 129/200\n",
      "271/271 [==============================] - 0s 353us/step - loss: 21.0936 - val_loss: 26.6972\n",
      "Epoch 130/200\n",
      "271/271 [==============================] - 0s 357us/step - loss: 22.7322 - val_loss: 23.7832\n",
      "Epoch 131/200\n",
      "271/271 [==============================] - 0s 378us/step - loss: 20.4585 - val_loss: 24.3519\n",
      "Epoch 132/200\n",
      "271/271 [==============================] - 0s 347us/step - loss: 20.7683 - val_loss: 26.0858\n",
      "Epoch 133/200\n",
      "271/271 [==============================] - 0s 371us/step - loss: 22.5057 - val_loss: 24.2551\n",
      "Epoch 134/200\n",
      "271/271 [==============================] - 0s 376us/step - loss: 20.6700 - val_loss: 25.4676\n",
      "Epoch 135/200\n",
      "271/271 [==============================] - 0s 364us/step - loss: 20.3070 - val_loss: 26.5499\n",
      "Epoch 136/200\n",
      "271/271 [==============================] - 0s 362us/step - loss: 27.6402 - val_loss: 24.5486\n",
      "Epoch 137/200\n",
      "271/271 [==============================] - 0s 376us/step - loss: 21.1923 - val_loss: 24.7898\n",
      "Epoch 138/200\n",
      "271/271 [==============================] - 0s 350us/step - loss: 22.7829 - val_loss: 28.7962\n",
      "Epoch 139/200\n",
      "271/271 [==============================] - 0s 374us/step - loss: 22.0721 - val_loss: 23.8031\n",
      "Epoch 140/200\n",
      "271/271 [==============================] - 0s 347us/step - loss: 20.1447 - val_loss: 23.9339\n",
      "Epoch 141/200\n",
      "271/271 [==============================] - 0s 367us/step - loss: 21.1985 - val_loss: 25.7437\n",
      "Epoch 142/200\n",
      "271/271 [==============================] - 0s 364us/step - loss: 20.6879 - val_loss: 24.9560\n",
      "Epoch 143/200\n",
      "271/271 [==============================] - 0s 374us/step - loss: 23.2580 - val_loss: 24.5009\n",
      "Epoch 144/200\n",
      "271/271 [==============================] - 0s 361us/step - loss: 20.8748 - val_loss: 24.8331\n",
      "Epoch 145/200\n",
      "271/271 [==============================] - 0s 367us/step - loss: 21.4158 - val_loss: 25.5061\n",
      "Epoch 146/200\n",
      "271/271 [==============================] - 0s 382us/step - loss: 20.3773 - val_loss: 24.5444\n",
      "Epoch 147/200\n",
      "271/271 [==============================] - 0s 347us/step - loss: 20.9641 - val_loss: 25.9513\n",
      "Epoch 148/200\n",
      "271/271 [==============================] - 0s 371us/step - loss: 21.2601 - val_loss: 26.9716\n",
      "Epoch 149/200\n",
      "271/271 [==============================] - 0s 349us/step - loss: 21.4868 - val_loss: 23.3861\n",
      "Epoch 150/200\n",
      "271/271 [==============================] - 0s 369us/step - loss: 21.9977 - val_loss: 26.5828\n",
      "Epoch 151/200\n",
      "271/271 [==============================] - 0s 375us/step - loss: 21.9822 - val_loss: 23.8324\n"
     ]
    },
    {
     "name": "stdout",
     "output_type": "stream",
     "text": [
      "Epoch 152/200\n",
      "271/271 [==============================] - 0s 342us/step - loss: 21.3581 - val_loss: 27.3810\n",
      "Epoch 153/200\n",
      "271/271 [==============================] - 0s 360us/step - loss: 19.8310 - val_loss: 23.9935\n",
      "Epoch 154/200\n",
      "271/271 [==============================] - 0s 360us/step - loss: 23.0626 - val_loss: 26.5074\n",
      "Epoch 155/200\n",
      "271/271 [==============================] - 0s 366us/step - loss: 22.9577 - val_loss: 23.5660\n",
      "Epoch 156/200\n",
      "271/271 [==============================] - 0s 374us/step - loss: 20.6142 - val_loss: 24.5825\n",
      "Epoch 157/200\n",
      "271/271 [==============================] - 0s 343us/step - loss: 21.2017 - val_loss: 24.7719\n",
      "Epoch 158/200\n",
      "271/271 [==============================] - 0s 376us/step - loss: 20.5229 - val_loss: 26.4118\n",
      "Epoch 159/200\n",
      "271/271 [==============================] - 0s 360us/step - loss: 21.6247 - val_loss: 26.8296\n",
      "Epoch 160/200\n",
      "271/271 [==============================] - 0s 345us/step - loss: 22.6201 - val_loss: 27.7646\n",
      "Epoch 161/200\n",
      "271/271 [==============================] - 0s 335us/step - loss: 20.4994 - val_loss: 24.3574\n",
      "Epoch 162/200\n",
      "271/271 [==============================] - 0s 355us/step - loss: 20.0840 - val_loss: 27.2431\n",
      "Epoch 163/200\n",
      "271/271 [==============================] - 0s 351us/step - loss: 24.4681 - val_loss: 26.0045\n",
      "Epoch 164/200\n",
      "271/271 [==============================] - 0s 364us/step - loss: 23.6794 - val_loss: 25.4689\n",
      "Epoch 165/200\n",
      "271/271 [==============================] - 0s 342us/step - loss: 19.2842 - val_loss: 26.3135\n",
      "Epoch 166/200\n",
      "271/271 [==============================] - 0s 354us/step - loss: 19.1036 - val_loss: 23.8883\n",
      "Epoch 167/200\n",
      "271/271 [==============================] - 0s 358us/step - loss: 19.5679 - val_loss: 23.9449\n",
      "Epoch 168/200\n",
      "271/271 [==============================] - 0s 353us/step - loss: 24.4424 - val_loss: 25.7856\n",
      "Epoch 169/200\n",
      "271/271 [==============================] - 0s 353us/step - loss: 21.0718 - val_loss: 24.9018\n",
      "Epoch 170/200\n",
      "271/271 [==============================] - 0s 336us/step - loss: 20.3989 - val_loss: 25.8969\n",
      "Epoch 171/200\n",
      "271/271 [==============================] - 0s 338us/step - loss: 21.1642 - val_loss: 25.2381\n",
      "Epoch 172/200\n",
      "271/271 [==============================] - 0s 360us/step - loss: 20.8484 - val_loss: 24.0407\n",
      "Epoch 173/200\n",
      "271/271 [==============================] - 0s 350us/step - loss: 19.2538 - val_loss: 24.4596\n",
      "Epoch 174/200\n",
      "271/271 [==============================] - 0s 364us/step - loss: 20.6828 - val_loss: 24.8795\n",
      "Epoch 175/200\n",
      "271/271 [==============================] - 0s 370us/step - loss: 19.8193 - val_loss: 23.4316\n",
      "Epoch 176/200\n",
      "271/271 [==============================] - 0s 379us/step - loss: 21.2446 - val_loss: 26.3449\n",
      "Epoch 177/200\n",
      "271/271 [==============================] - 0s 347us/step - loss: 21.1472 - val_loss: 26.3565\n",
      "Epoch 178/200\n",
      "271/271 [==============================] - 0s 366us/step - loss: 19.7173 - val_loss: 25.5067\n",
      "Epoch 179/200\n",
      "271/271 [==============================] - 0s 343us/step - loss: 20.7640 - val_loss: 24.2338\n",
      "Epoch 180/200\n",
      "271/271 [==============================] - 0s 378us/step - loss: 20.0847 - val_loss: 25.9568\n",
      "Epoch 181/200\n",
      "271/271 [==============================] - 0s 366us/step - loss: 19.9777 - val_loss: 25.3041\n",
      "Epoch 182/200\n",
      "271/271 [==============================] - 0s 377us/step - loss: 20.7764 - val_loss: 24.3620\n",
      "Epoch 183/200\n",
      "271/271 [==============================] - 0s 350us/step - loss: 20.6085 - val_loss: 24.0629\n",
      "Epoch 184/200\n",
      "271/271 [==============================] - 0s 348us/step - loss: 20.5225 - val_loss: 25.2853\n",
      "Epoch 185/200\n",
      "271/271 [==============================] - 0s 372us/step - loss: 19.7270 - val_loss: 23.8545\n",
      "Epoch 186/200\n",
      "271/271 [==============================] - 0s 365us/step - loss: 20.5933 - val_loss: 23.6347\n",
      "Epoch 187/200\n",
      "271/271 [==============================] - 0s 360us/step - loss: 19.7278 - val_loss: 23.4808\n",
      "Epoch 188/200\n",
      "271/271 [==============================] - 0s 370us/step - loss: 19.0422 - val_loss: 23.5956\n",
      "Epoch 189/200\n",
      "271/271 [==============================] - 0s 375us/step - loss: 21.6529 - val_loss: 31.6987\n",
      "Epoch 190/200\n",
      "271/271 [==============================] - 0s 348us/step - loss: 22.9122 - val_loss: 25.9417\n",
      "Epoch 191/200\n",
      "271/271 [==============================] - 0s 367us/step - loss: 24.2581 - val_loss: 24.3660\n",
      "Epoch 192/200\n",
      "271/271 [==============================] - 0s 365us/step - loss: 19.9173 - val_loss: 25.5652\n",
      "Epoch 193/200\n",
      "271/271 [==============================] - 0s 367us/step - loss: 20.8584 - val_loss: 23.0750\n",
      "Epoch 194/200\n",
      "271/271 [==============================] - 0s 372us/step - loss: 24.0945 - val_loss: 24.4691\n",
      "Epoch 195/200\n",
      "271/271 [==============================] - 0s 363us/step - loss: 21.5620 - val_loss: 23.5944\n",
      "Epoch 196/200\n",
      "271/271 [==============================] - 0s 345us/step - loss: 19.1167 - val_loss: 24.4726\n",
      "Epoch 197/200\n",
      "271/271 [==============================] - 0s 372us/step - loss: 20.0472 - val_loss: 23.3756\n",
      "Epoch 198/200\n",
      "271/271 [==============================] - 0s 367us/step - loss: 18.9093 - val_loss: 24.3175\n",
      "Epoch 199/200\n",
      "271/271 [==============================] - 0s 339us/step - loss: 19.9544 - val_loss: 24.0238\n",
      "Epoch 200/200\n",
      "271/271 [==============================] - 0s 364us/step - loss: 22.5983 - val_loss: 26.5677\n",
      "[INFO] model saved to housePrice.keras2\n"
     ]
    }
   ],
   "source": [
    "# train the model\n",
    "print(\"[INFO] training model...\")\n",
    "history=model.fit(trainX, trainY, validation_data=(testX, testY),epochs=200, batch_size=8)\n",
    "model.save(\"housePrice.keras2\")\n",
    "print(\"[INFO] model saved to housePrice.keras2\")"
   ]
  },
  {
   "cell_type": "code",
   "execution_count": 15,
   "metadata": {},
   "outputs": [
    {
     "name": "stdout",
     "output_type": "stream",
     "text": [
      "[INFO] predicting house prices...\n"
     ]
    }
   ],
   "source": [
    "# make predictions on the testing data\n",
    "print(\"[INFO] predicting house prices...\")\n",
    "preds = model.predict(testX)\n",
    "validationLoss=(history.history['val_loss'])\n",
    "trainingLoss=history.history['loss']"
   ]
  },
  {
   "cell_type": "code",
   "execution_count": 17,
   "metadata": {},
   "outputs": [
    {
     "name": "stdout",
     "output_type": "stream",
     "text": [
      "[INFO] Loss curve saved to plot_acc.png\n"
     ]
    },
    {
     "data": {
      "image/png": "[encoded data removed]",
      "text/plain": [
       "<Figure size 432x288 with 1 Axes>"
      ]
     },
     "metadata": {
      "needs_background": "light"
     },
     "output_type": "display_data"
    }
   ],
   "source": [
    "epochs   = range(len(validationLoss)) # Get number of epochs\n",
    "plt.plot  ( epochs,     trainingLoss ,label=\"Training Loss\")\n",
    "plt.plot  ( epochs, validationLoss, label=\"Validation Loss\" )\n",
    "plt.title ('Training and validation loss')\n",
    "plt.xlabel(\"Epoch #\")\n",
    "plt.ylabel(\"Loss\")\n",
    "fileToSaveAccuracyCurve=\"plot_acc.png\"\n",
    "plt.savefig(\"plot_acc.png\")\n",
    "print(\"[INFO] Loss curve saved to {}\".format(\"plot_acc.png\"))\n",
    "plt.legend(loc=\"upper right\")\n",
    "plt.show()"
   ]
  },
  {
   "cell_type": "code",
   "execution_count": 18,
   "metadata": {},
   "outputs": [
    {
     "data": {
      "image/png": "[encoded data removed]",
      "text/plain": [
       "<Figure size 432x288 with 1 Axes>"
      ]
     },
     "metadata": {
      "needs_background": "light"
     },
     "output_type": "display_data"
    },
    {
     "name": "stdout",
     "output_type": "stream",
     "text": [
      "[INFO] predicted vs actual price saved to HousePrices.png\n"
     ]
    },
    {
     "data": {
      "text/plain": [
       "<Figure size 432x288 with 0 Axes>"
      ]
     },
     "metadata": {},
     "output_type": "display_data"
    }
   ],
   "source": [
    "#readjust house prices\n",
    "testY=testY*maxPrice\n",
    "preds=preds*maxPrice\n",
    "#plot curves (Actual vs Predicted)\n",
    "plt.plot  ( testY ,label=\"Actual price\")\n",
    "plt.plot  ( preds, label=\"Predicted price\" )\n",
    "plt.title ('House prices')\n",
    "plt.xlabel(\"Point #\")\n",
    "plt.ylabel(\"Price\")\n",
    "plt.legend(loc=\"upper right\")\n",
    "plt.show()\n",
    "plt.savefig(\"HousePrices.png\")\n",
    "print(\"[INFO] predicted vs actual price saved to HousePrices.png\")"
   ]
  },
  {
   "cell_type": "code",
   "execution_count": null,
   "metadata": {},
   "outputs": [],
   "source": []
  }
 ],
 "metadata": {
  "kernelspec": {
   "display_name": "Python 3",
   "language": "python",
   "name": "python3"
  },
  "language_info": {
   "codemirror_mode": {
    "name": "ipython",
    "version": 3
   },
   "file_extension": ".py",
   "mimetype": "text/x-python",
   "name": "python",
   "nbconvert_exporter": "python",
   "pygments_lexer": "ipython3",
   "version": "3.6.8"
  }
 },
 "nbformat": 4,
 "nbformat_minor": 2
}
